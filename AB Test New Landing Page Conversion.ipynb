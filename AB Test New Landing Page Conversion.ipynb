{
 "cells": [
  {
   "cell_type": "markdown",
   "id": "7c188ba3",
   "metadata": {},
   "source": [
    "## ℹ️ A/B test"
   ]
  },
  {
   "cell_type": "markdown",
   "id": "8f3beb40",
   "metadata": {},
   "source": [
    "Компания разработала новую веб-страницу, чтобы увеличить конверсию в покупку.\n",
    "\n",
    "Цель — помочь бизнесу принять решение на основе данных: раскатить на 100% новую страницу или оставить старую."
   ]
  },
  {
   "cell_type": "markdown",
   "id": "9864da9b",
   "metadata": {},
   "source": [
    "## 📊Результаты\n",
    "\n",
    "- Проверка двухсторонней гипотезы с использованием Z-теста показала отсутствие статистически значимой разницы в конверсии между новой и старой страницами.\n",
    "- Рекомендуется оценить влияние новой страницы на дополнительные метрики. В качестве отправной точки целесообразно посмотреть, как изменилась средняя выручка на пользователя (ARPU).\n",
    "- Несмотря на отсутствие статистически значимой разницы в конверсии, окончательное решение должно учитывать также внешние факторы: и потраченные ресурсы на разработку, и контекст самого редизайна, конкурентов и прочее."
   ]
  },
  {
   "cell_type": "markdown",
   "id": "60bcf36d",
   "metadata": {},
   "source": [
    "| Параметр               | Контрольная группа | Тестовая группа | Разница    |\n",
    "|:-----------------------|:------------------:|:---------------:|:----------:|\n",
    "| Конверсия              | 12.04%             | 11.88%          | -0.0016    |\n",
    "| Относительное изменение| -                  | -               | -1.31%     |\n",
    "| P-value                | -                  | -               | 0.19       |\n",
    "| Доверительный интервал | [0.119, 0.122]     | [0.117, 0.120]  | -          |"
   ]
  },
  {
   "cell_type": "markdown",
   "id": "413247ea",
   "metadata": {},
   "source": [
    "## 📋 Навигация\n",
    "- [Загрузка и обзор данных](#overview)\n",
    "- [Предобработка данных и EDA](#processing)\n",
    "- [Подведение итогов A/B-теста](#ab)\n",
    "- [Выводы и рекомендации](#results)"
   ]
  },
  {
   "cell_type": "markdown",
   "id": "7833ca92",
   "metadata": {},
   "source": [
    "<h2 id=\"overview\">Загрузка и обзор данных</h2>"
   ]
  },
  {
   "cell_type": "code",
   "execution_count": 1,
   "id": "1e55e9e1",
   "metadata": {},
   "outputs": [],
   "source": [
    "import pandas as pd\n",
    "import matplotlib.pyplot as plt\n",
    "from scipy import stats as st\n",
    "import math as mth\n",
    "import statsmodels.stats.api as sms"
   ]
  },
  {
   "cell_type": "code",
   "execution_count": null,
   "id": "6072f9a5",
   "metadata": {},
   "outputs": [
    {
     "data": {
      "text/html": [
       "<div>\n",
       "<style scoped>\n",
       "    .dataframe tbody tr th:only-of-type {\n",
       "        vertical-align: middle;\n",
       "    }\n",
       "\n",
       "    .dataframe tbody tr th {\n",
       "        vertical-align: top;\n",
       "    }\n",
       "\n",
       "    .dataframe thead th {\n",
       "        text-align: right;\n",
       "    }\n",
       "</style>\n",
       "<table border=\"1\" class=\"dataframe\">\n",
       "  <thead>\n",
       "    <tr style=\"text-align: right;\">\n",
       "      <th></th>\n",
       "      <th>id</th>\n",
       "      <th>time</th>\n",
       "      <th>con_treat</th>\n",
       "      <th>page</th>\n",
       "      <th>converted</th>\n",
       "    </tr>\n",
       "  </thead>\n",
       "  <tbody>\n",
       "    <tr>\n",
       "      <th>0</th>\n",
       "      <td>851104</td>\n",
       "      <td>11:48.6</td>\n",
       "      <td>control</td>\n",
       "      <td>old_page</td>\n",
       "      <td>0</td>\n",
       "    </tr>\n",
       "    <tr>\n",
       "      <th>1</th>\n",
       "      <td>804228</td>\n",
       "      <td>01:45.2</td>\n",
       "      <td>control</td>\n",
       "      <td>old_page</td>\n",
       "      <td>0</td>\n",
       "    </tr>\n",
       "    <tr>\n",
       "      <th>2</th>\n",
       "      <td>661590</td>\n",
       "      <td>55:06.2</td>\n",
       "      <td>treatment</td>\n",
       "      <td>new_page</td>\n",
       "      <td>0</td>\n",
       "    </tr>\n",
       "    <tr>\n",
       "      <th>3</th>\n",
       "      <td>853541</td>\n",
       "      <td>28:03.1</td>\n",
       "      <td>treatment</td>\n",
       "      <td>new_page</td>\n",
       "      <td>0</td>\n",
       "    </tr>\n",
       "    <tr>\n",
       "      <th>4</th>\n",
       "      <td>864975</td>\n",
       "      <td>52:26.2</td>\n",
       "      <td>control</td>\n",
       "      <td>old_page</td>\n",
       "      <td>1</td>\n",
       "    </tr>\n",
       "  </tbody>\n",
       "</table>\n",
       "</div>"
      ],
      "text/plain": [
       "       id     time  con_treat      page  converted\n",
       "0  851104  11:48.6    control  old_page          0\n",
       "1  804228  01:45.2    control  old_page          0\n",
       "2  661590  55:06.2  treatment  new_page          0\n",
       "3  853541  28:03.1  treatment  new_page          0\n",
       "4  864975  52:26.2    control  old_page          1"
      ]
     },
     "execution_count": 2,
     "metadata": {},
     "output_type": "execute_result"
    }
   ],
   "source": [
    "# Прочитаем файл с данными\n",
    "try:\n",
    "    df = pd.read_csv('..ab_test.csv')\n",
    "except Exception as e:\n",
    "    print(f\"Ошибка: {e}\")\n",
    "    \n",
    "df.head()"
   ]
  },
  {
   "cell_type": "code",
   "execution_count": 3,
   "id": "0cc03e8a",
   "metadata": {},
   "outputs": [
    {
     "data": {
      "text/html": [
       "<div>\n",
       "<style scoped>\n",
       "    .dataframe tbody tr th:only-of-type {\n",
       "        vertical-align: middle;\n",
       "    }\n",
       "\n",
       "    .dataframe tbody tr th {\n",
       "        vertical-align: top;\n",
       "    }\n",
       "\n",
       "    .dataframe thead th {\n",
       "        text-align: right;\n",
       "    }\n",
       "</style>\n",
       "<table border=\"1\" class=\"dataframe\">\n",
       "  <thead>\n",
       "    <tr style=\"text-align: right;\">\n",
       "      <th></th>\n",
       "      <th>user_id</th>\n",
       "      <th>timestamp</th>\n",
       "      <th>group</th>\n",
       "      <th>page</th>\n",
       "      <th>converted</th>\n",
       "    </tr>\n",
       "  </thead>\n",
       "  <tbody>\n",
       "    <tr>\n",
       "      <th>0</th>\n",
       "      <td>851104</td>\n",
       "      <td>11:48.6</td>\n",
       "      <td>control</td>\n",
       "      <td>old_page</td>\n",
       "      <td>0</td>\n",
       "    </tr>\n",
       "    <tr>\n",
       "      <th>1</th>\n",
       "      <td>804228</td>\n",
       "      <td>01:45.2</td>\n",
       "      <td>control</td>\n",
       "      <td>old_page</td>\n",
       "      <td>0</td>\n",
       "    </tr>\n",
       "    <tr>\n",
       "      <th>2</th>\n",
       "      <td>661590</td>\n",
       "      <td>55:06.2</td>\n",
       "      <td>treatment</td>\n",
       "      <td>new_page</td>\n",
       "      <td>0</td>\n",
       "    </tr>\n",
       "    <tr>\n",
       "      <th>3</th>\n",
       "      <td>853541</td>\n",
       "      <td>28:03.1</td>\n",
       "      <td>treatment</td>\n",
       "      <td>new_page</td>\n",
       "      <td>0</td>\n",
       "    </tr>\n",
       "    <tr>\n",
       "      <th>4</th>\n",
       "      <td>864975</td>\n",
       "      <td>52:26.2</td>\n",
       "      <td>control</td>\n",
       "      <td>old_page</td>\n",
       "      <td>1</td>\n",
       "    </tr>\n",
       "  </tbody>\n",
       "</table>\n",
       "</div>"
      ],
      "text/plain": [
       "   user_id timestamp      group      page  converted\n",
       "0   851104   11:48.6    control  old_page          0\n",
       "1   804228   01:45.2    control  old_page          0\n",
       "2   661590   55:06.2  treatment  new_page          0\n",
       "3   853541   28:03.1  treatment  new_page          0\n",
       "4   864975   52:26.2    control  old_page          1"
      ]
     },
     "execution_count": 3,
     "metadata": {},
     "output_type": "execute_result"
    }
   ],
   "source": [
    "# Переименуем колонки\n",
    "df.columns = ['user_id','timestamp','group','page','converted']\n",
    "df.head()"
   ]
  },
  {
   "cell_type": "code",
   "execution_count": 4,
   "id": "043d8764",
   "metadata": {},
   "outputs": [
    {
     "name": "stdout",
     "output_type": "stream",
     "text": [
      "Количество строк: 294478\n",
      "Количество уникальных пользователей: 290584\n"
     ]
    }
   ],
   "source": [
    "print(f'Количество строк: {len(df)}')\n",
    "print(f'Количество уникальных пользователей: {df['user_id'].nunique()}')"
   ]
  },
  {
   "cell_type": "markdown",
   "id": "611cf7fb",
   "metadata": {},
   "source": [
    "**В датасете могут быть ошибки или дубликаты, это проверим на этапе &laquo;Предобработки данных и EDA&raquo;**"
   ]
  },
  {
   "cell_type": "code",
   "execution_count": 5,
   "id": "053ec4cb",
   "metadata": {},
   "outputs": [
    {
     "name": "stdout",
     "output_type": "stream",
     "text": [
      "<class 'pandas.core.frame.DataFrame'>\n",
      "RangeIndex: 294478 entries, 0 to 294477\n",
      "Data columns (total 5 columns):\n",
      " #   Column     Non-Null Count   Dtype \n",
      "---  ------     --------------   ----- \n",
      " 0   user_id    294478 non-null  int64 \n",
      " 1   timestamp  294478 non-null  object\n",
      " 2   group      294478 non-null  object\n",
      " 3   page       294478 non-null  object\n",
      " 4   converted  294478 non-null  int64 \n",
      "dtypes: int64(2), object(3)\n",
      "memory usage: 11.2+ MB\n"
     ]
    }
   ],
   "source": [
    "# Общая инфа по датасету\n",
    "df.info()"
   ]
  },
  {
   "cell_type": "code",
   "execution_count": 6,
   "id": "c3e09fcf",
   "metadata": {},
   "outputs": [
    {
     "data": {
      "text/plain": [
       "user_id      0\n",
       "timestamp    0\n",
       "group        0\n",
       "page         0\n",
       "converted    0\n",
       "dtype: int64"
      ]
     },
     "execution_count": 6,
     "metadata": {},
     "output_type": "execute_result"
    }
   ],
   "source": [
    "# Посмотрим пропуски\n",
    "df.isnull().sum()"
   ]
  },
  {
   "cell_type": "markdown",
   "id": "52285844",
   "metadata": {},
   "source": [
    "<h2 id=\"processing\">Предобработка данных и EDA</h2>"
   ]
  },
  {
   "cell_type": "code",
   "execution_count": 7,
   "id": "8ad26764",
   "metadata": {},
   "outputs": [
    {
     "name": "stdout",
     "output_type": "stream",
     "text": [
      "page       new_page  old_page\n",
      "group                        \n",
      "control        1928    145274\n",
      "treatment    145310      1965\n"
     ]
    },
    {
     "data": {
      "image/png": "[encoded data removed]",
      "text/plain": [
       "<Figure size 700x300 with 1 Axes>"
      ]
     },
     "metadata": {},
     "output_type": "display_data"
    }
   ],
   "source": [
    "# Сводная таблица с количеством пользователей по группам и страницам\n",
    "ab_pivot = df.pivot_table(index='group',columns='page',values='user_id',aggfunc='nunique')\n",
    "\n",
    "print(ab_pivot)\n",
    "\n",
    "# График распределения кол-ва юзеров в группах по страницам\n",
    "ab_pivot\\\n",
    "    .plot(kind='bar',\n",
    "          legend = True,\n",
    "          grid=True,\n",
    "          figsize = (7,3),\n",
    "          fontsize=8,\n",
    "          color=[\"#165323c3\", \"#fb8448\"],\n",
    "          rot = 0)\n",
    "\n",
    "plt.style.use('bmh')\n",
    "plt.title('Распределение пользователей по группам теста', fontsize=8, weight='extra bold', y=1.05)\n",
    "plt.legend(fontsize=8)\n",
    "plt.xlabel('Группа теста',fontsize=8, weight='extra bold')\n",
    "plt.ylabel('Количество пользователей',fontsize=8, weight='extra bold')\n",
    "\n",
    "plt.show()"
   ]
  },
  {
   "cell_type": "markdown",
   "id": "580e81ea",
   "metadata": {},
   "source": [
    "**По графику видно, что в группы попали случайные пользователи. Их надо почистить.**"
   ]
  },
  {
   "cell_type": "code",
   "execution_count": 8,
   "id": "4377c815",
   "metadata": {},
   "outputs": [
    {
     "name": "stdout",
     "output_type": "stream",
     "text": [
      "Количество случайных пользователей: 3893\n",
      "Доля случайных пользователей от общего количества: 1.34%\n",
      "=======================================================\n",
      "Количество ошибочных строк от общего количества: 3893\n",
      "Доля ошибочных строк от общего количества: 1.32%\n"
     ]
    }
   ],
   "source": [
    "# Кол-во строк со случайными пользователями\n",
    "mist_user = pd.concat([df[(df['group'] == 'control') & (df['page'] == 'new_page')], \\\n",
    "                      df[(df['group'] == 'treatment') & (df['page'] == 'old_page')]])\n",
    "\n",
    "# Кол-во строк со случайными пользователями\n",
    "mist_row = len(df[(df['group'] == 'control') & (df['page'] == 'new_page')])\\\n",
    "      + len(df[(df['group'] == 'treatment') & (df['page'] == 'old_page')])\n",
    "\n",
    "print(f'Количество случайных пользователей: {mist_user['user_id'].nunique()}')\n",
    "print(f'Доля случайных пользователей от общего количества: {mist_user['user_id'].nunique()/df['user_id'].nunique():.2%}')\n",
    "print('=' * 55)\n",
    "print(f'Количество ошибочных строк от общего количества: {mist_row}')\n",
    "print(f'Доля ошибочных строк от общего количества: {mist_row/len(df):.2%}')"
   ]
  },
  {
   "cell_type": "code",
   "execution_count": 9,
   "id": "e224cf0f",
   "metadata": {},
   "outputs": [
    {
     "name": "stdout",
     "output_type": "stream",
     "text": [
      "Количество строк до очистки: 294478\n",
      "Количество строк к удалению: 3893\n",
      "Проверка: количество оставшихся строк: 290585\n",
      "=======================================================\n"
     ]
    },
    {
     "data": {
      "text/html": [
       "<div>\n",
       "<style scoped>\n",
       "    .dataframe tbody tr th:only-of-type {\n",
       "        vertical-align: middle;\n",
       "    }\n",
       "\n",
       "    .dataframe tbody tr th {\n",
       "        vertical-align: top;\n",
       "    }\n",
       "\n",
       "    .dataframe thead th {\n",
       "        text-align: right;\n",
       "    }\n",
       "</style>\n",
       "<table border=\"1\" class=\"dataframe\">\n",
       "  <thead>\n",
       "    <tr style=\"text-align: right;\">\n",
       "      <th></th>\n",
       "      <th>group</th>\n",
       "      <th>page</th>\n",
       "      <th>user_id</th>\n",
       "    </tr>\n",
       "  </thead>\n",
       "  <tbody>\n",
       "    <tr>\n",
       "      <th>0</th>\n",
       "      <td>control</td>\n",
       "      <td>old_page</td>\n",
       "      <td>145274</td>\n",
       "    </tr>\n",
       "    <tr>\n",
       "      <th>1</th>\n",
       "      <td>treatment</td>\n",
       "      <td>new_page</td>\n",
       "      <td>145311</td>\n",
       "    </tr>\n",
       "  </tbody>\n",
       "</table>\n",
       "</div>"
      ],
      "text/plain": [
       "       group      page  user_id\n",
       "0    control  old_page   145274\n",
       "1  treatment  new_page   145311"
      ]
     },
     "execution_count": 9,
     "metadata": {},
     "output_type": "execute_result"
    }
   ],
   "source": [
    "print(f'Количество строк до очистки: {len(df)}')\n",
    "print(f'Количество строк к удалению: {mist_row}')\n",
    "\n",
    "# Очистим датасет от ошибок\n",
    "df = df[(df['group'] == 'control') & (df['page'] == 'old_page')\n",
    "         | (df['group'] == 'treatment') & (df['page'] == 'new_page')]\n",
    "\n",
    "print(f'Проверка: количество оставшихся строк: {len(df)}')\n",
    "print('=' * 55)\n",
    "df.groupby(['group','page'], as_index=False).agg({'user_id':'count'})"
   ]
  },
  {
   "cell_type": "markdown",
   "id": "34dddb0e",
   "metadata": {},
   "source": [
    "**Теперь группы в датасете очищены от случайных пользователей**"
   ]
  },
  {
   "cell_type": "code",
   "execution_count": 10,
   "id": "2f8571fb",
   "metadata": {},
   "outputs": [
    {
     "name": "stdout",
     "output_type": "stream",
     "text": [
      "Количество полных дубликатов в датасете: 0\n",
      "Количество дубликатов по user_id в датасете: 2\n"
     ]
    }
   ],
   "source": [
    "# Функция проверки дубликатов\n",
    "def duplicate_check(df):\n",
    "    full_dup = df.duplicated().sum()\n",
    "    id_dup = len(df[df['user_id'].duplicated(keep=False)])\n",
    "    return {'full_dup': full_dup, 'id_dup': id_dup}\n",
    "\n",
    "result = duplicate_check(df)\n",
    "print(f\"Количество полных дубликатов в датасете: {result['full_dup']}\")\n",
    "print(f\"Количество дубликатов по user_id в датасете: {result['id_dup']}\")"
   ]
  },
  {
   "cell_type": "code",
   "execution_count": 11,
   "id": "98ccd45c",
   "metadata": {},
   "outputs": [
    {
     "data": {
      "text/html": [
       "<div>\n",
       "<style scoped>\n",
       "    .dataframe tbody tr th:only-of-type {\n",
       "        vertical-align: middle;\n",
       "    }\n",
       "\n",
       "    .dataframe tbody tr th {\n",
       "        vertical-align: top;\n",
       "    }\n",
       "\n",
       "    .dataframe thead th {\n",
       "        text-align: right;\n",
       "    }\n",
       "</style>\n",
       "<table border=\"1\" class=\"dataframe\">\n",
       "  <thead>\n",
       "    <tr style=\"text-align: right;\">\n",
       "      <th></th>\n",
       "      <th>user_id</th>\n",
       "      <th>timestamp</th>\n",
       "      <th>group</th>\n",
       "      <th>page</th>\n",
       "      <th>converted</th>\n",
       "    </tr>\n",
       "  </thead>\n",
       "  <tbody>\n",
       "    <tr>\n",
       "      <th>1899</th>\n",
       "      <td>773192</td>\n",
       "      <td>37:58.8</td>\n",
       "      <td>treatment</td>\n",
       "      <td>new_page</td>\n",
       "      <td>0</td>\n",
       "    </tr>\n",
       "    <tr>\n",
       "      <th>2893</th>\n",
       "      <td>773192</td>\n",
       "      <td>55:59.6</td>\n",
       "      <td>treatment</td>\n",
       "      <td>new_page</td>\n",
       "      <td>0</td>\n",
       "    </tr>\n",
       "  </tbody>\n",
       "</table>\n",
       "</div>"
      ],
      "text/plain": [
       "      user_id timestamp      group      page  converted\n",
       "1899   773192   37:58.8  treatment  new_page          0\n",
       "2893   773192   55:59.6  treatment  new_page          0"
      ]
     },
     "execution_count": 11,
     "metadata": {},
     "output_type": "execute_result"
    }
   ],
   "source": [
    "# Посмотрим дубликаты по user_id\n",
    "df[df['user_id'].duplicated(keep=False)]"
   ]
  },
  {
   "cell_type": "markdown",
   "id": "2d7f5e11",
   "metadata": {},
   "source": [
    "**Пользователь с user_id - 773192 заходил на новую страницу несколько раз. Это не дубликат. Мы оставим первую запись, которая встречается с данным id в датасете.**"
   ]
  },
  {
   "cell_type": "code",
   "execution_count": 12,
   "id": "21ae69ff",
   "metadata": {},
   "outputs": [
    {
     "name": "stdout",
     "output_type": "stream",
     "text": [
      "Количество user_id, которые встречаются в датасете более 1 раза: 0\n"
     ]
    }
   ],
   "source": [
    "df = df.drop_duplicates(subset='user_id', keep='first')\n",
    "\n",
    "result = duplicate_check(df)\n",
    "print(f\"Количество user_id, которые встречаются в датасете более 1 раза: {result['id_dup']}\")"
   ]
  },
  {
   "cell_type": "code",
   "execution_count": 13,
   "id": "55a00d9f",
   "metadata": {},
   "outputs": [
    {
     "name": "stdout",
     "output_type": "stream",
     "text": [
      "group\n",
      "treatment    145310\n",
      "control      145274\n",
      "Name: count, dtype: int64\n"
     ]
    },
    {
     "data": {
      "image/png": "[encoded data removed]",
      "text/plain": [
       "<Figure size 400x300 with 1 Axes>"
      ]
     },
     "metadata": {},
     "output_type": "display_data"
    }
   ],
   "source": [
    "print(df['group'].value_counts())\n",
    "\n",
    "# График распределения количества пользователей по группам\n",
    "df['group'].value_counts(normalize=True)\\\n",
    "    .plot(kind='pie',\n",
    "          figsize=(4,3),\n",
    "          colors=[\"#165323c3\", \"#fb8448\"],\n",
    "          textprops={'color': 'white', 'fontsize': 8, 'weight':'bold'},\n",
    "          autopct='%1.1f%%',\n",
    "          startangle=90,\n",
    "          counterclock=False) \n",
    "\n",
    "plt.style.use('bmh')\n",
    "plt.title('Распределение пользователей по группам', fontsize=10, weight='bold', y=1.05)\n",
    "plt.legend(fontsize=7)\n",
    "plt.ylabel('')\n",
    "plt.show()"
   ]
  },
  {
   "cell_type": "markdown",
   "id": "f80ca94e",
   "metadata": {},
   "source": [
    "<h2 id=\"ab\">Подведение итогов A/B-теста</h2>"
   ]
  },
  {
   "cell_type": "markdown",
   "id": "8c33db6d",
   "metadata": {},
   "source": [
    "##### 🎯 Цели\n",
    "\n",
    "- Определение метрики\n",
    "- Определение требуемого размера выборки\n",
    "- Определение статистического критерия\n",
    "- Проведение A/B-теста\n",
    "- Выводы"
   ]
  },
  {
   "cell_type": "code",
   "execution_count": 14,
   "id": "8d41b018",
   "metadata": {},
   "outputs": [
    {
     "name": "stdout",
     "output_type": "stream",
     "text": [
      "Количество пользователей в контрольной группе: 145274\n",
      "Количество пользователей в тестовой группе: 145310\n",
      "==================================================\n",
      "Конверсия в контрольной группе: 12.04%\n",
      "Конверсия в тестовой группе: 11.88%\n",
      "Абслютная разница в конверсиях: -0.0016\n",
      "Относительная разница в конверсиях: -1.31%\n"
     ]
    }
   ],
   "source": [
    "# Разобьем датасет на 2 группы\n",
    "control, test = df.loc[df['group'] == 'control'], df.loc[df['group'] == 'treatment']\n",
    "\n",
    "# Посмотрим конверсию и количество пользователей в контрольной группе и тестовой\n",
    "conv_rate_a, conv_rate_b = control['converted'].mean(), test['converted'].mean()\n",
    "converted_a, converted_b = len(control[control['converted'] == 1]),len(test[test['converted'] == 1])\n",
    "visitors_a, visitors_b = len(control), len(test)\n",
    "\n",
    "\n",
    "print(f\"Количество пользователей в контрольной группе: {visitors_a}\")\n",
    "print(f\"Количество пользователей в тестовой группе: {visitors_b}\")\n",
    "print('='*50)\n",
    "print(f\"Конверсия в контрольной группе: {conv_rate_a:.2%}\")\n",
    "print(f\"Конверсия в тестовой группе: {conv_rate_b:.2%}\")\n",
    "print(f\"Абслютная разница в конверсиях: {conv_rate_b - conv_rate_a:.2}\")\n",
    "print(f\"Относительная разница в конверсиях: {(conv_rate_b - conv_rate_a) / conv_rate_a:.2%}\")"
   ]
  },
  {
   "cell_type": "code",
   "execution_count": 15,
   "id": "22cefae0",
   "metadata": {},
   "outputs": [
    {
     "name": "stdout",
     "output_type": "stream",
     "text": [
      "Необходимый размер выборки для каждой группы: 144950\n"
     ]
    }
   ],
   "source": [
    "# Напишем функцию расчета размера выборки\n",
    "def sample_size_calculator(baseline_rate, mde, power=0.8, alpha=0.05):\n",
    "    \n",
    "    # Расчет размера эффекта\n",
    "    effect_size = sms.proportion_effectsize(baseline_rate, baseline_rate * (1+mde)) # Расчет размера эффекта\n",
    "    \n",
    "    # Расчет необходимого размера выборки\n",
    "    sample_size = sms.NormalIndPower().solve_power(\n",
    "        effect_size,           # полученный размер эффекта\n",
    "        alpha=alpha,           # уровень значимости\n",
    "        power=power,           # желаемая мощность\n",
    "        ratio=1                # соотношение размеров групп\n",
    "    ) \n",
    "    return sample_size\n",
    "\n",
    "baseline_rate = conv_rate_a  # конверсия в контрольной группе\n",
    "mde = 0.0283 # минимальное значение, которое можем поймать\n",
    "\n",
    "sample_size = sample_size_calculator(baseline_rate, mde)\n",
    "print(f'Необходимый размер выборки для каждой группы: {sample_size:.0f}')"
   ]
  },
  {
   "cell_type": "markdown",
   "id": "730c0ee0",
   "metadata": {},
   "source": [
    "#### 🔍 Формулировка гипотез для A/B-теста\n",
    "\n",
    "**Нулевая гипотеза (H₀):**\n",
    "- 📊 p₁ = p₂ \n",
    "- ❌ Отсутствуют различия конверсий между группами A и B\n",
    "\n",
    "**Альтернативная гипотеза (H₁):**\n",
    "- 📈 p₁ ≠ p₂\n",
    "- ✅ Есть различия конверсий между группами A и B"
   ]
  },
  {
   "cell_type": "code",
   "execution_count": 16,
   "id": "477d89c5",
   "metadata": {},
   "outputs": [
    {
     "name": "stdout",
     "output_type": "stream",
     "text": [
      "РЕЗУЛЬТАТЫ A/B-ТЕСТА\n",
      "======================\n",
      "Конверсия в контрольной группе: 17489/145274 = 0.1204 (12.04%)\n",
      "Конверсия в тестовой группе: 17264/145310 = 0.1188 (11.88%)\n",
      "Абсолютная разница: -0.0016 (-0.0016)\n",
      "Относительная разница: -0.0131 (-1.31%)\n",
      "z-statistic: 1.311\n",
      "p-value: 0.19\n",
      "\n",
      "95% Доверительный интервал для контрольной группы: [0.119, 0.122]\n",
      "95% Доверительный интервал для тестовой группы: [0.117, 0.120]\n",
      "95% Доверительный интервал для разницы: [-0.0008, 0.0039]\n",
      "\n",
      "❌ Не получилось отвергнуть нулевую гипотезу, нет оснований считать конверсии разными\n"
     ]
    }
   ],
   "source": [
    "# Напишем функцию для z-теста\n",
    "def stat_check_z_test(converted_a, converted_b, visitors_a, visitors_b, alpha=0.05):\n",
    "    \n",
    "    # Коэффициенты конверсии\n",
    "    p1, p2 = converted_a / visitors_a, converted_b / visitors_b\n",
    "\n",
    "    # Стандартная ошибка для каждой конверсии\n",
    "    se1, se2 = mth.sqrt(p1 * (1 - p1) / visitors_a), mth.sqrt(p2 * (1 - p2) / visitors_b)\n",
    "\n",
    "    # Стандартная ошибка разницы между конверсиями\n",
    "    se_diff = mth.sqrt(se1**2 + se2**2)\n",
    "\n",
    "    # Разница в конверсии\n",
    "    difference = p1 - p2\n",
    "    absolute_difference = p2 - p1\n",
    "    relative_difference = (p2 - p1)/p1\n",
    "\n",
    "    # пропорция успехов в комбинированном датасете:\n",
    "    p_combined = (converted_a + converted_b) / (visitors_a + visitors_b)\n",
    "\n",
    "    # Z-статистика\n",
    "    z_value = difference / mth.sqrt(p_combined * (1 - p_combined) * (1/visitors_a + 1/visitors_b))\n",
    "\n",
    "    # P-значение (двустороннее)\n",
    "    p_value = 2 * (1 - st.norm.cdf(abs(z_value)))\n",
    "\n",
    "    # Доверительный интервал\n",
    "    z_critical = st.norm.ppf(1 - alpha/2)\n",
    "    ci_group1, ci_group2 = (p1 - z_critical * se1, p1 + z_critical * se1), (p2 - z_critical * se2, p2 + z_critical * se2)\n",
    "    \n",
    "    # Доверительный интервал для разницы\n",
    "    ci_diff = (difference - z_critical * se_diff, difference + z_critical * se_diff)\n",
    "\n",
    "    print(\"РЕЗУЛЬТАТЫ A/B-ТЕСТА\")\n",
    "    print(\"=\" * 22)\n",
    "    print(f\"Конверсия в контрольной группе: {converted_a}/{visitors_a} = {p1:.4f} ({p1:.2%})\")\n",
    "    print(f\"Конверсия в тестовой группе: {converted_b}/{visitors_b} = {p2:.4f} ({p2:.2%})\")\n",
    "    print(f\"Абсолютная разница: {absolute_difference:.4f} ({absolute_difference:.2})\")\n",
    "    print(f\"Относительная разница: {round(relative_difference,4)} ({relative_difference:.2%})\")\n",
    "    print(f\"z-statistic: {z_value:.3f}\")\n",
    "    print(f\"p-value: {p_value:.2f}\")\n",
    "\n",
    "    print(f\"\\n95% Доверительный интервал для контрольной группы: [{ci_group1[0]:.3f}, {ci_group1[1]:.3f}]\")\n",
    "    print(f\"95% Доверительный интервал для тестовой группы: [{ci_group2[0]:.3f}, {ci_group2[1]:.3f}]\")\n",
    "    print(f\"95% Доверительный интервал для разницы: [{ci_diff[0]:.4f}, {ci_diff[1]:.4f}]\")\n",
    "\n",
    "    if p_value < alpha:\n",
    "        print('\\n✅ Отвергаем нулевую гипотезу: между конверсиями есть значимая разница')\n",
    "        if difference > 0:\n",
    "            print(f'📈 Конверсия тестовой группы значимо лучше на {difference:.1%}')\n",
    "        else:\n",
    "            print(f'📉 Конверсия тестовой группы значимо лучше на {abs(difference):.1%}')\n",
    "    else:\n",
    "        print('\\n❌ Не получилось отвергнуть нулевую гипотезу, нет оснований считать конверсии разными')\n",
    "\n",
    "    return {\n",
    "        'z_value': z_value,\n",
    "        'p_value': p_value,\n",
    "        'difference': difference,\n",
    "        'ci_group1': ci_group1,\n",
    "        'ci_group2': ci_group2,\n",
    "        'ci_difference': ci_diff\n",
    "    }\n",
    "\n",
    "# Анализируем тест\n",
    "result = stat_check_z_test(converted_a, converted_b, visitors_a, visitors_b)"
   ]
  },
  {
   "cell_type": "markdown",
   "id": "bf267b88",
   "metadata": {},
   "source": [
    "<h2 id=\"results\">Выводы и рекомендации</h2>"
   ]
  },
  {
   "cell_type": "markdown",
   "id": "4753bc83",
   "metadata": {},
   "source": [
    "**❌ Конверсия значимо не изменилась.**\n",
    "\n",
    "*Рекомендуется оценить влияние новой страницы на дополнительные метрики. В качестве отправной точки целесообразно посмотреть, как изменилась средняя выручка на пользователя (ARPU).*\n",
    "\n",
    "**Несмотря на отсутствие статистически значимой разницы в конверсии, окончательное решение должно учитывать также внешние факторы: и потраченные ресурсы на разработку, и контекст самого редизайна, конкурентов и прочее.**"
   ]
  }
 ],
 "metadata": {
  "kernelspec": {
   "display_name": "Python 3",
   "language": "python",
   "name": "python3"
  },
  "language_info": {
   "codemirror_mode": {
    "name": "ipython",
    "version": 3
   },
   "file_extension": ".py",
   "mimetype": "text/x-python",
   "name": "python",
   "nbconvert_exporter": "python",
   "pygments_lexer": "ipython3",
   "version": "3.13.5"
  }
 },
 "nbformat": 4,
 "nbformat_minor": 5
}
